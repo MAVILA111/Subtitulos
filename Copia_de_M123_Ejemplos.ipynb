{
  "nbformat": 4,
  "nbformat_minor": 0,
  "metadata": {
    "colab": {
      "provenance": []
    },
    "kernelspec": {
      "name": "python3",
      "display_name": "Python 3"
    },
    "language_info": {
      "name": "python"
    }
  },
  "cells": [
    {
      "cell_type": "code",
      "source": [
        "df_modelos=pd.read_csv('/content/drive/MyDrive/UClase/Proyecto/Modelos.csv', encoding='windows-1250')\n",
        "\n",
        "df_modelos.head()"
      ],
      "metadata": {
        "id": "yQ9zuq7EMBa5"
      },
      "execution_count": null,
      "outputs": []
    },
    {
      "cell_type": "markdown",
      "source": [
        "## **Reto de la semana**\n",
        "\n",
        "Descarga el archivo de Excel de la siguiente liga, la cual deberás subir a tu Drive:https://docs.google.com/spreadsheets/d/1muHS297qH0BfsASI5thANRRy2-zjeODS/edit?usp=sharing&ouid=109463671594466264489&rtpof=true&sd=true\n",
        "\n",
        "El reto consta de dos partes:\n",
        "\n",
        "1. Genera un **data frame** llamado `reto` (¡no olvides importar `Pandas` y `Numpy`!) y observa su composición con la función `.head` o `.tail`.\n",
        "2. Haz, por lo menos, dos **groupby** usando la información del **data frame** `reto`. Puedes experimentar tomando diferentes valores. \n"
      ],
      "metadata": {
        "id": "VacrKDbOMilO"
      }
    },
    {
      "cell_type": "code",
      "source": [
        "### Ejemplo lectura con pandas.\n",
        "import pandas as pd\n",
        "import numpy as np\n",
        "\n",
        "reto = pd.read_excel('/content/drive/MyDrive/U Class DS - JOSE/data/tarjetasdecredito.xlsx',\n",
        "                   sheet_name= 'data'\n",
        "                   )"
      ],
      "metadata": {
        "id": "nKrH4bxWM-e_"
      },
      "execution_count": null,
      "outputs": []
    },
    {
      "cell_type": "code",
      "source": [
        "reto2 = reto.groupby('credit_card',as_index=False )['credit_card'].size()"
      ],
      "metadata": {
        "id": "ckvrmXoT068S"
      },
      "execution_count": null,
      "outputs": []
    },
    {
      "cell_type": "code",
      "source": [
        "reto2['size'].sum()"
      ],
      "metadata": {
        "colab": {
          "base_uri": "https://localhost:8080/"
        },
        "id": "G-IUdCD12YeP",
        "outputId": "582dfb4f-a9b3-4a7b-fe69-704d97e9affd"
      },
      "execution_count": null,
      "outputs": [
        {
          "output_type": "execute_result",
          "data": {
            "text/plain": [
              "1000"
            ]
          },
          "metadata": {},
          "execution_count": 32
        }
      ]
    },
    {
      "cell_type": "code",
      "source": [
        "reto2['Proporcion'] = reto2['size'] / reto2['size'].sum()"
      ],
      "metadata": {
        "id": "6zO54N6D2SZ6"
      },
      "execution_count": null,
      "outputs": []
    },
    {
      "cell_type": "code",
      "source": [
        "reto2.head()"
      ],
      "metadata": {
        "colab": {
          "base_uri": "https://localhost:8080/",
          "height": 112
        },
        "id": "-G6uEAK21eD3",
        "outputId": "3731fff0-6d40-4a6a-8acb-4916dc42a9e3"
      },
      "execution_count": null,
      "outputs": [
        {
          "output_type": "execute_result",
          "data": {
            "text/plain": [
              "  credit_card  size  Proporcion\n",
              "0  mastercard   496       0.496\n",
              "1        visa   504       0.504"
            ],
            "text/html": [
              "\n",
              "  <div id=\"df-0e563e57-696a-4ad1-ba2d-0796100f0c7d\">\n",
              "    <div class=\"colab-df-container\">\n",
              "      <div>\n",
              "<style scoped>\n",
              "    .dataframe tbody tr th:only-of-type {\n",
              "        vertical-align: middle;\n",
              "    }\n",
              "\n",
              "    .dataframe tbody tr th {\n",
              "        vertical-align: top;\n",
              "    }\n",
              "\n",
              "    .dataframe thead th {\n",
              "        text-align: right;\n",
              "    }\n",
              "</style>\n",
              "<table border=\"1\" class=\"dataframe\">\n",
              "  <thead>\n",
              "    <tr style=\"text-align: right;\">\n",
              "      <th></th>\n",
              "      <th>credit_card</th>\n",
              "      <th>size</th>\n",
              "      <th>Proporcion</th>\n",
              "    </tr>\n",
              "  </thead>\n",
              "  <tbody>\n",
              "    <tr>\n",
              "      <th>0</th>\n",
              "      <td>mastercard</td>\n",
              "      <td>496</td>\n",
              "      <td>0.496</td>\n",
              "    </tr>\n",
              "    <tr>\n",
              "      <th>1</th>\n",
              "      <td>visa</td>\n",
              "      <td>504</td>\n",
              "      <td>0.504</td>\n",
              "    </tr>\n",
              "  </tbody>\n",
              "</table>\n",
              "</div>\n",
              "      <button class=\"colab-df-convert\" onclick=\"convertToInteractive('df-0e563e57-696a-4ad1-ba2d-0796100f0c7d')\"\n",
              "              title=\"Convert this dataframe to an interactive table.\"\n",
              "              style=\"display:none;\">\n",
              "        \n",
              "  <svg xmlns=\"http://www.w3.org/2000/svg\" height=\"24px\"viewBox=\"0 0 24 24\"\n",
              "       width=\"24px\">\n",
              "    <path d=\"M0 0h24v24H0V0z\" fill=\"none\"/>\n",
              "    <path d=\"M18.56 5.44l.94 2.06.94-2.06 2.06-.94-2.06-.94-.94-2.06-.94 2.06-2.06.94zm-11 1L8.5 8.5l.94-2.06 2.06-.94-2.06-.94L8.5 2.5l-.94 2.06-2.06.94zm10 10l.94 2.06.94-2.06 2.06-.94-2.06-.94-.94-2.06-.94 2.06-2.06.94z\"/><path d=\"M17.41 7.96l-1.37-1.37c-.4-.4-.92-.59-1.43-.59-.52 0-1.04.2-1.43.59L10.3 9.45l-7.72 7.72c-.78.78-.78 2.05 0 2.83L4 21.41c.39.39.9.59 1.41.59.51 0 1.02-.2 1.41-.59l7.78-7.78 2.81-2.81c.8-.78.8-2.07 0-2.86zM5.41 20L4 18.59l7.72-7.72 1.47 1.35L5.41 20z\"/>\n",
              "  </svg>\n",
              "      </button>\n",
              "      \n",
              "  <style>\n",
              "    .colab-df-container {\n",
              "      display:flex;\n",
              "      flex-wrap:wrap;\n",
              "      gap: 12px;\n",
              "    }\n",
              "\n",
              "    .colab-df-convert {\n",
              "      background-color: #E8F0FE;\n",
              "      border: none;\n",
              "      border-radius: 50%;\n",
              "      cursor: pointer;\n",
              "      display: none;\n",
              "      fill: #1967D2;\n",
              "      height: 32px;\n",
              "      padding: 0 0 0 0;\n",
              "      width: 32px;\n",
              "    }\n",
              "\n",
              "    .colab-df-convert:hover {\n",
              "      background-color: #E2EBFA;\n",
              "      box-shadow: 0px 1px 2px rgba(60, 64, 67, 0.3), 0px 1px 3px 1px rgba(60, 64, 67, 0.15);\n",
              "      fill: #174EA6;\n",
              "    }\n",
              "\n",
              "    [theme=dark] .colab-df-convert {\n",
              "      background-color: #3B4455;\n",
              "      fill: #D2E3FC;\n",
              "    }\n",
              "\n",
              "    [theme=dark] .colab-df-convert:hover {\n",
              "      background-color: #434B5C;\n",
              "      box-shadow: 0px 1px 3px 1px rgba(0, 0, 0, 0.15);\n",
              "      filter: drop-shadow(0px 1px 2px rgba(0, 0, 0, 0.3));\n",
              "      fill: #FFFFFF;\n",
              "    }\n",
              "  </style>\n",
              "\n",
              "      <script>\n",
              "        const buttonEl =\n",
              "          document.querySelector('#df-0e563e57-696a-4ad1-ba2d-0796100f0c7d button.colab-df-convert');\n",
              "        buttonEl.style.display =\n",
              "          google.colab.kernel.accessAllowed ? 'block' : 'none';\n",
              "\n",
              "        async function convertToInteractive(key) {\n",
              "          const element = document.querySelector('#df-0e563e57-696a-4ad1-ba2d-0796100f0c7d');\n",
              "          const dataTable =\n",
              "            await google.colab.kernel.invokeFunction('convertToInteractive',\n",
              "                                                     [key], {});\n",
              "          if (!dataTable) return;\n",
              "\n",
              "          const docLinkHtml = 'Like what you see? Visit the ' +\n",
              "            '<a target=\"_blank\" href=https://colab.research.google.com/notebooks/data_table.ipynb>data table notebook</a>'\n",
              "            + ' to learn more about interactive tables.';\n",
              "          element.innerHTML = '';\n",
              "          dataTable['output_type'] = 'display_data';\n",
              "          await google.colab.output.renderOutput(dataTable, element);\n",
              "          const docLink = document.createElement('div');\n",
              "          docLink.innerHTML = docLinkHtml;\n",
              "          element.appendChild(docLink);\n",
              "        }\n",
              "      </script>\n",
              "    </div>\n",
              "  </div>\n",
              "  "
            ]
          },
          "metadata": {},
          "execution_count": 34
        }
      ]
    },
    {
      "cell_type": "code",
      "source": [],
      "metadata": {
        "id": "X6OcZGvX1-98"
      },
      "execution_count": null,
      "outputs": []
    },
    {
      "cell_type": "code",
      "source": [
        "# reto.head()"
      ],
      "metadata": {
        "id": "v-FavKPmR7bV"
      },
      "execution_count": null,
      "outputs": []
    },
    {
      "cell_type": "code",
      "source": [
        "# reto.head()\n",
        "# reto.tail()\n",
        "\n",
        "# reto.groupby(['credit_card'])['credit_card'].count()\n",
        "# reto.groupby(['credit_card','city'])['age'].mean()\n",
        "\n",
        "# reto[reto['age']>50].groupby(['credit_card']).size()\n",
        "# reto[reto['age']>50].groupby(['credit_card'])['credit_card'].count()\n",
        "\n",
        "\n",
        "reto.groupby(['credit_card','city'], as_index=False)['age'].mean()\n"
      ],
      "metadata": {
        "id": "kMsjkyaFM-yK",
        "colab": {
          "base_uri": "https://localhost:8080/",
          "height": 424
        },
        "outputId": "799560b6-7d90-44b9-94a2-b186056c78c3"
      },
      "execution_count": null,
      "outputs": [
        {
          "output_type": "execute_result",
          "data": {
            "text/plain": [
              "    credit_card           city   age\n",
              "0    mastercard         Abadou  23.0\n",
              "1    mastercard         Abaeté  52.0\n",
              "2    mastercard          Abang  37.0\n",
              "3    mastercard          Abaza  32.0\n",
              "4    mastercard         Acaraú  27.0\n",
              "..          ...            ...   ...\n",
              "981        visa         Şirvan  48.0\n",
              "982        visa          Šabac  23.0\n",
              "983        visa       Živinice  27.0\n",
              "984        visa       Ḩuraytān  26.0\n",
              "985        visa  ‘Ayn al ‘Arab  26.0\n",
              "\n",
              "[986 rows x 3 columns]"
            ],
            "text/html": [
              "\n",
              "  <div id=\"df-2b2bfeed-c980-49dd-9b4a-bd36de5c496f\">\n",
              "    <div class=\"colab-df-container\">\n",
              "      <div>\n",
              "<style scoped>\n",
              "    .dataframe tbody tr th:only-of-type {\n",
              "        vertical-align: middle;\n",
              "    }\n",
              "\n",
              "    .dataframe tbody tr th {\n",
              "        vertical-align: top;\n",
              "    }\n",
              "\n",
              "    .dataframe thead th {\n",
              "        text-align: right;\n",
              "    }\n",
              "</style>\n",
              "<table border=\"1\" class=\"dataframe\">\n",
              "  <thead>\n",
              "    <tr style=\"text-align: right;\">\n",
              "      <th></th>\n",
              "      <th>credit_card</th>\n",
              "      <th>city</th>\n",
              "      <th>age</th>\n",
              "    </tr>\n",
              "  </thead>\n",
              "  <tbody>\n",
              "    <tr>\n",
              "      <th>0</th>\n",
              "      <td>mastercard</td>\n",
              "      <td>Abadou</td>\n",
              "      <td>23.0</td>\n",
              "    </tr>\n",
              "    <tr>\n",
              "      <th>1</th>\n",
              "      <td>mastercard</td>\n",
              "      <td>Abaeté</td>\n",
              "      <td>52.0</td>\n",
              "    </tr>\n",
              "    <tr>\n",
              "      <th>2</th>\n",
              "      <td>mastercard</td>\n",
              "      <td>Abang</td>\n",
              "      <td>37.0</td>\n",
              "    </tr>\n",
              "    <tr>\n",
              "      <th>3</th>\n",
              "      <td>mastercard</td>\n",
              "      <td>Abaza</td>\n",
              "      <td>32.0</td>\n",
              "    </tr>\n",
              "    <tr>\n",
              "      <th>4</th>\n",
              "      <td>mastercard</td>\n",
              "      <td>Acaraú</td>\n",
              "      <td>27.0</td>\n",
              "    </tr>\n",
              "    <tr>\n",
              "      <th>...</th>\n",
              "      <td>...</td>\n",
              "      <td>...</td>\n",
              "      <td>...</td>\n",
              "    </tr>\n",
              "    <tr>\n",
              "      <th>981</th>\n",
              "      <td>visa</td>\n",
              "      <td>Şirvan</td>\n",
              "      <td>48.0</td>\n",
              "    </tr>\n",
              "    <tr>\n",
              "      <th>982</th>\n",
              "      <td>visa</td>\n",
              "      <td>Šabac</td>\n",
              "      <td>23.0</td>\n",
              "    </tr>\n",
              "    <tr>\n",
              "      <th>983</th>\n",
              "      <td>visa</td>\n",
              "      <td>Živinice</td>\n",
              "      <td>27.0</td>\n",
              "    </tr>\n",
              "    <tr>\n",
              "      <th>984</th>\n",
              "      <td>visa</td>\n",
              "      <td>Ḩuraytān</td>\n",
              "      <td>26.0</td>\n",
              "    </tr>\n",
              "    <tr>\n",
              "      <th>985</th>\n",
              "      <td>visa</td>\n",
              "      <td>‘Ayn al ‘Arab</td>\n",
              "      <td>26.0</td>\n",
              "    </tr>\n",
              "  </tbody>\n",
              "</table>\n",
              "<p>986 rows × 3 columns</p>\n",
              "</div>\n",
              "      <button class=\"colab-df-convert\" onclick=\"convertToInteractive('df-2b2bfeed-c980-49dd-9b4a-bd36de5c496f')\"\n",
              "              title=\"Convert this dataframe to an interactive table.\"\n",
              "              style=\"display:none;\">\n",
              "        \n",
              "  <svg xmlns=\"http://www.w3.org/2000/svg\" height=\"24px\"viewBox=\"0 0 24 24\"\n",
              "       width=\"24px\">\n",
              "    <path d=\"M0 0h24v24H0V0z\" fill=\"none\"/>\n",
              "    <path d=\"M18.56 5.44l.94 2.06.94-2.06 2.06-.94-2.06-.94-.94-2.06-.94 2.06-2.06.94zm-11 1L8.5 8.5l.94-2.06 2.06-.94-2.06-.94L8.5 2.5l-.94 2.06-2.06.94zm10 10l.94 2.06.94-2.06 2.06-.94-2.06-.94-.94-2.06-.94 2.06-2.06.94z\"/><path d=\"M17.41 7.96l-1.37-1.37c-.4-.4-.92-.59-1.43-.59-.52 0-1.04.2-1.43.59L10.3 9.45l-7.72 7.72c-.78.78-.78 2.05 0 2.83L4 21.41c.39.39.9.59 1.41.59.51 0 1.02-.2 1.41-.59l7.78-7.78 2.81-2.81c.8-.78.8-2.07 0-2.86zM5.41 20L4 18.59l7.72-7.72 1.47 1.35L5.41 20z\"/>\n",
              "  </svg>\n",
              "      </button>\n",
              "      \n",
              "  <style>\n",
              "    .colab-df-container {\n",
              "      display:flex;\n",
              "      flex-wrap:wrap;\n",
              "      gap: 12px;\n",
              "    }\n",
              "\n",
              "    .colab-df-convert {\n",
              "      background-color: #E8F0FE;\n",
              "      border: none;\n",
              "      border-radius: 50%;\n",
              "      cursor: pointer;\n",
              "      display: none;\n",
              "      fill: #1967D2;\n",
              "      height: 32px;\n",
              "      padding: 0 0 0 0;\n",
              "      width: 32px;\n",
              "    }\n",
              "\n",
              "    .colab-df-convert:hover {\n",
              "      background-color: #E2EBFA;\n",
              "      box-shadow: 0px 1px 2px rgba(60, 64, 67, 0.3), 0px 1px 3px 1px rgba(60, 64, 67, 0.15);\n",
              "      fill: #174EA6;\n",
              "    }\n",
              "\n",
              "    [theme=dark] .colab-df-convert {\n",
              "      background-color: #3B4455;\n",
              "      fill: #D2E3FC;\n",
              "    }\n",
              "\n",
              "    [theme=dark] .colab-df-convert:hover {\n",
              "      background-color: #434B5C;\n",
              "      box-shadow: 0px 1px 3px 1px rgba(0, 0, 0, 0.15);\n",
              "      filter: drop-shadow(0px 1px 2px rgba(0, 0, 0, 0.3));\n",
              "      fill: #FFFFFF;\n",
              "    }\n",
              "  </style>\n",
              "\n",
              "      <script>\n",
              "        const buttonEl =\n",
              "          document.querySelector('#df-2b2bfeed-c980-49dd-9b4a-bd36de5c496f button.colab-df-convert');\n",
              "        buttonEl.style.display =\n",
              "          google.colab.kernel.accessAllowed ? 'block' : 'none';\n",
              "\n",
              "        async function convertToInteractive(key) {\n",
              "          const element = document.querySelector('#df-2b2bfeed-c980-49dd-9b4a-bd36de5c496f');\n",
              "          const dataTable =\n",
              "            await google.colab.kernel.invokeFunction('convertToInteractive',\n",
              "                                                     [key], {});\n",
              "          if (!dataTable) return;\n",
              "\n",
              "          const docLinkHtml = 'Like what you see? Visit the ' +\n",
              "            '<a target=\"_blank\" href=https://colab.research.google.com/notebooks/data_table.ipynb>data table notebook</a>'\n",
              "            + ' to learn more about interactive tables.';\n",
              "          element.innerHTML = '';\n",
              "          dataTable['output_type'] = 'display_data';\n",
              "          await google.colab.output.renderOutput(dataTable, element);\n",
              "          const docLink = document.createElement('div');\n",
              "          docLink.innerHTML = docLinkHtml;\n",
              "          element.appendChild(docLink);\n",
              "        }\n",
              "      </script>\n",
              "    </div>\n",
              "  </div>\n",
              "  "
            ]
          },
          "metadata": {},
          "execution_count": 36
        }
      ]
    },
    {
      "cell_type": "code",
      "source": [],
      "metadata": {
        "id": "W2qJBNZlm7Dq"
      },
      "execution_count": null,
      "outputs": []
    },
    {
      "cell_type": "code",
      "source": [],
      "metadata": {
        "id": "PtmB9fGIm7Hl"
      },
      "execution_count": null,
      "outputs": []
    },
    {
      "cell_type": "code",
      "source": [],
      "metadata": {
        "id": "_dwRMmCVm7MT"
      },
      "execution_count": null,
      "outputs": []
    },
    {
      "cell_type": "code",
      "source": [
        "## Material adicional"
      ],
      "metadata": {
        "id": "Ova75blqSAjv"
      },
      "execution_count": null,
      "outputs": []
    },
    {
      "cell_type": "code",
      "source": [
        "# Lectura escritura de csv\n",
        "\n",
        "pd.read_csv('file.csv')\n",
        "df.to_csv('myDataFrame.csv')\n",
        "# df = pd.read_csv('/content/sample_data/california_housing_test.csv')\n",
        "\n",
        "####################################################\n",
        "\n",
        "# Lectura Excel.\n",
        "pd.read_excel('file.xlsx')\n",
        "df.to_excel('dir/myDataFrame.xlsx',  sheet_name='Sheet1')\n",
        "\n",
        "####################################################\n",
        "\n",
        "# Lectura Multiples Exceles.\n",
        "xlsx = pd.ExcelFile('file.xls')\n",
        "df = pd.read_excel(xlsx,  'Sheet1')\n",
        "\n",
        "\n",
        "## loop entre las hojas de un excel.\n",
        "\n",
        "## definir donde se va a guardar.\n",
        "df_final = pd.DataFrame()\n",
        "\n",
        "# vamos hoja por hoja y guardamos\n",
        "# 'Sheet1' 'Sheet2' 'Sheet3' 'Sheet4'\n",
        "\n",
        "for sheet in xlsx.sheet_names:\n",
        "# convertirmos la hoja a dataframe y apilamos\n",
        "    df = pd.read_excel(xlsx, sheet_name=sheet)\n",
        "    df_final = df_final.append(df)\n",
        "\n",
        "## guardamos\n",
        "df_final.to_csv('concentrado.csv')\n",
        "\n",
        "####################################################\n",
        "\n",
        "## SQL\n",
        "\n",
        "from sqlalchemy import create_engine\n",
        "engine = create_engine('sqlite:///:memory:')\n",
        "\n",
        "\n",
        "engine = sqlalchemy.create_engine(\n",
        "    sqlalchemy.engine.url.URL(\n",
        "        drivername=\"postgresql\",\n",
        "        username=\"username\",\n",
        "        password=\"password\",\n",
        "        host=\"host\",\n",
        "        port=\"port\",\n",
        "        database=\"database\",\n",
        "    ),\n",
        "    echo_pool=True,\n",
        ")\n",
        "\n",
        "print(\"connecting with engine \" + str(engine))\n",
        "connection = engine.connect()\n",
        "\n",
        "\n",
        "pd.read_sql(\"SELECT * FROM my_table;\", engine)\n",
        "pd.read_sql_table('my_table', engine)\n",
        "pd.read_sql_query(\"SELECT * FROM my_table;\", engine)\n",
        "df.to_sql('myDf', engine)\n",
        "\n",
        "\n",
        "\n"
      ],
      "metadata": {
        "id": "fElQlkMxJ-kn"
      },
      "execution_count": null,
      "outputs": []
    },
    {
      "cell_type": "code",
      "source": [
        "import pandas as pd\n",
        "link = \"https://id.wikipedia.org/wiki/Demografi_Indonesia\"\n",
        "\n",
        "tables = pd.read_html(link,header=0)[2]\n",
        "# tables.to_csv('tabla_wikipedia')\n"
      ],
      "metadata": {
        "id": "2FoXdJzhaxUM"
      },
      "execution_count": null,
      "outputs": []
    },
    {
      "cell_type": "code",
      "source": [
        "tables.head()"
      ],
      "metadata": {
        "colab": {
          "base_uri": "https://localhost:8080/",
          "height": 206
        },
        "id": "X1KqYUtGZdHC",
        "outputId": "5a6762d2-5daf-46f7-ebed-59fdce895aaa"
      },
      "execution_count": null,
      "outputs": [
        {
          "output_type": "execute_result",
          "data": {
            "text/plain": [
              "   Nama provinsi Luas (km²)[11] Populasi (2010)[12] Populasi (2020)[9]\n",
              "0           Aceh      56.500,51           4.494.410          5.274.871\n",
              "1  Sumatra Utara      72.427,81          12.982.204         14.799.361\n",
              "2  Sumatra Barat      42.224,65           4.846.909          5.534.472\n",
              "3           Riau      87.844,23           5.538.367          6.394.087\n",
              "4          Jambi      45.348,49           3.092.265          3.548.228"
            ],
            "text/html": [
              "\n",
              "  <div id=\"df-03d131cf-1dfd-439d-a1e2-3797c9e81ca0\">\n",
              "    <div class=\"colab-df-container\">\n",
              "      <div>\n",
              "<style scoped>\n",
              "    .dataframe tbody tr th:only-of-type {\n",
              "        vertical-align: middle;\n",
              "    }\n",
              "\n",
              "    .dataframe tbody tr th {\n",
              "        vertical-align: top;\n",
              "    }\n",
              "\n",
              "    .dataframe thead th {\n",
              "        text-align: right;\n",
              "    }\n",
              "</style>\n",
              "<table border=\"1\" class=\"dataframe\">\n",
              "  <thead>\n",
              "    <tr style=\"text-align: right;\">\n",
              "      <th></th>\n",
              "      <th>Nama provinsi</th>\n",
              "      <th>Luas (km²)[11]</th>\n",
              "      <th>Populasi (2010)[12]</th>\n",
              "      <th>Populasi (2020)[9]</th>\n",
              "    </tr>\n",
              "  </thead>\n",
              "  <tbody>\n",
              "    <tr>\n",
              "      <th>0</th>\n",
              "      <td>Aceh</td>\n",
              "      <td>56.500,51</td>\n",
              "      <td>4.494.410</td>\n",
              "      <td>5.274.871</td>\n",
              "    </tr>\n",
              "    <tr>\n",
              "      <th>1</th>\n",
              "      <td>Sumatra Utara</td>\n",
              "      <td>72.427,81</td>\n",
              "      <td>12.982.204</td>\n",
              "      <td>14.799.361</td>\n",
              "    </tr>\n",
              "    <tr>\n",
              "      <th>2</th>\n",
              "      <td>Sumatra Barat</td>\n",
              "      <td>42.224,65</td>\n",
              "      <td>4.846.909</td>\n",
              "      <td>5.534.472</td>\n",
              "    </tr>\n",
              "    <tr>\n",
              "      <th>3</th>\n",
              "      <td>Riau</td>\n",
              "      <td>87.844,23</td>\n",
              "      <td>5.538.367</td>\n",
              "      <td>6.394.087</td>\n",
              "    </tr>\n",
              "    <tr>\n",
              "      <th>4</th>\n",
              "      <td>Jambi</td>\n",
              "      <td>45.348,49</td>\n",
              "      <td>3.092.265</td>\n",
              "      <td>3.548.228</td>\n",
              "    </tr>\n",
              "  </tbody>\n",
              "</table>\n",
              "</div>\n",
              "      <button class=\"colab-df-convert\" onclick=\"convertToInteractive('df-03d131cf-1dfd-439d-a1e2-3797c9e81ca0')\"\n",
              "              title=\"Convert this dataframe to an interactive table.\"\n",
              "              style=\"display:none;\">\n",
              "        \n",
              "  <svg xmlns=\"http://www.w3.org/2000/svg\" height=\"24px\"viewBox=\"0 0 24 24\"\n",
              "       width=\"24px\">\n",
              "    <path d=\"M0 0h24v24H0V0z\" fill=\"none\"/>\n",
              "    <path d=\"M18.56 5.44l.94 2.06.94-2.06 2.06-.94-2.06-.94-.94-2.06-.94 2.06-2.06.94zm-11 1L8.5 8.5l.94-2.06 2.06-.94-2.06-.94L8.5 2.5l-.94 2.06-2.06.94zm10 10l.94 2.06.94-2.06 2.06-.94-2.06-.94-.94-2.06-.94 2.06-2.06.94z\"/><path d=\"M17.41 7.96l-1.37-1.37c-.4-.4-.92-.59-1.43-.59-.52 0-1.04.2-1.43.59L10.3 9.45l-7.72 7.72c-.78.78-.78 2.05 0 2.83L4 21.41c.39.39.9.59 1.41.59.51 0 1.02-.2 1.41-.59l7.78-7.78 2.81-2.81c.8-.78.8-2.07 0-2.86zM5.41 20L4 18.59l7.72-7.72 1.47 1.35L5.41 20z\"/>\n",
              "  </svg>\n",
              "      </button>\n",
              "      \n",
              "  <style>\n",
              "    .colab-df-container {\n",
              "      display:flex;\n",
              "      flex-wrap:wrap;\n",
              "      gap: 12px;\n",
              "    }\n",
              "\n",
              "    .colab-df-convert {\n",
              "      background-color: #E8F0FE;\n",
              "      border: none;\n",
              "      border-radius: 50%;\n",
              "      cursor: pointer;\n",
              "      display: none;\n",
              "      fill: #1967D2;\n",
              "      height: 32px;\n",
              "      padding: 0 0 0 0;\n",
              "      width: 32px;\n",
              "    }\n",
              "\n",
              "    .colab-df-convert:hover {\n",
              "      background-color: #E2EBFA;\n",
              "      box-shadow: 0px 1px 2px rgba(60, 64, 67, 0.3), 0px 1px 3px 1px rgba(60, 64, 67, 0.15);\n",
              "      fill: #174EA6;\n",
              "    }\n",
              "\n",
              "    [theme=dark] .colab-df-convert {\n",
              "      background-color: #3B4455;\n",
              "      fill: #D2E3FC;\n",
              "    }\n",
              "\n",
              "    [theme=dark] .colab-df-convert:hover {\n",
              "      background-color: #434B5C;\n",
              "      box-shadow: 0px 1px 3px 1px rgba(0, 0, 0, 0.15);\n",
              "      filter: drop-shadow(0px 1px 2px rgba(0, 0, 0, 0.3));\n",
              "      fill: #FFFFFF;\n",
              "    }\n",
              "  </style>\n",
              "\n",
              "      <script>\n",
              "        const buttonEl =\n",
              "          document.querySelector('#df-03d131cf-1dfd-439d-a1e2-3797c9e81ca0 button.colab-df-convert');\n",
              "        buttonEl.style.display =\n",
              "          google.colab.kernel.accessAllowed ? 'block' : 'none';\n",
              "\n",
              "        async function convertToInteractive(key) {\n",
              "          const element = document.querySelector('#df-03d131cf-1dfd-439d-a1e2-3797c9e81ca0');\n",
              "          const dataTable =\n",
              "            await google.colab.kernel.invokeFunction('convertToInteractive',\n",
              "                                                     [key], {});\n",
              "          if (!dataTable) return;\n",
              "\n",
              "          const docLinkHtml = 'Like what you see? Visit the ' +\n",
              "            '<a target=\"_blank\" href=https://colab.research.google.com/notebooks/data_table.ipynb>data table notebook</a>'\n",
              "            + ' to learn more about interactive tables.';\n",
              "          element.innerHTML = '';\n",
              "          dataTable['output_type'] = 'display_data';\n",
              "          await google.colab.output.renderOutput(dataTable, element);\n",
              "          const docLink = document.createElement('div');\n",
              "          docLink.innerHTML = docLinkHtml;\n",
              "          element.appendChild(docLink);\n",
              "        }\n",
              "      </script>\n",
              "    </div>\n",
              "  </div>\n",
              "  "
            ]
          },
          "metadata": {},
          "execution_count": 38
        }
      ]
    },
    {
      "cell_type": "code",
      "source": [
        "import requests\n",
        "from pandas.io.json import json_normalize\n",
        "import pandas as pd\n",
        "\n",
        "url = \"https://api.exchangerate-api.com/v4/latest/USD\"\n",
        "df = pd.read_json(url)\n",
        "print(df)"
      ],
      "metadata": {
        "id": "pH28vTr1fMqT"
      },
      "execution_count": null,
      "outputs": []
    },
    {
      "cell_type": "code",
      "source": [],
      "metadata": {
        "id": "E8F_9jLLZ-cV"
      },
      "execution_count": null,
      "outputs": []
    },
    {
      "cell_type": "code",
      "source": [
        "# \"https://api.covid19api.com/summary\"\n",
        "data_json = requests.get(url).json()"
      ],
      "metadata": {
        "id": "pDbEFj-3d9YH"
      },
      "execution_count": null,
      "outputs": []
    },
    {
      "cell_type": "code",
      "source": [
        "# data_json"
      ],
      "metadata": {
        "id": "-T9-fwaafpMN"
      },
      "execution_count": null,
      "outputs": []
    },
    {
      "cell_type": "code",
      "source": [
        "import pandas as pd\n",
        "import pandasql as ps\n",
        "import numpy as np"
      ],
      "metadata": {
        "id": "zwY1QwHBfpRs"
      },
      "execution_count": null,
      "outputs": []
    },
    {
      "cell_type": "code",
      "source": [
        "df = pd.DataFrame([[1234, 'Customer A', '123 Street', np.nan],\n",
        "               [1234, 'Customer A', np.nan, '333 Street'],\n",
        "               [1233, 'Customer B', '444 Street', '333 Street'],\n",
        "              [1233, 'Customer B', '444 Street', '666 Street']], columns=\n",
        "['ID', 'Customer', 'Billing Address', 'Shipping Address'])\n",
        "\n",
        "\n",
        "q1 = 'SELECT ID FROM df '\n",
        "\n",
        "print(ps.sqldf(q1, locals()))"
      ],
      "metadata": {
        "colab": {
          "base_uri": "https://localhost:8080/"
        },
        "id": "Gwn2JMjfgS-t",
        "outputId": "58f2aba3-1c35-435c-e3d2-5c61769eb71a"
      },
      "execution_count": null,
      "outputs": [
        {
          "output_type": "stream",
          "name": "stdout",
          "text": [
            "     ID\n",
            "0  1234\n",
            "1  1234\n",
            "2  1233\n",
            "3  1233\n"
          ]
        }
      ]
    },
    {
      "cell_type": "code",
      "source": [],
      "metadata": {
        "id": "43BtI0uJgTF8"
      },
      "execution_count": null,
      "outputs": []
    },
    {
      "cell_type": "code",
      "execution_count": null,
      "metadata": {
        "id": "alRq7Jzzm9Iy"
      },
      "outputs": [],
      "source": [
        "\n",
        "\n",
        "## Ejemplo de sentencias SQL \n",
        "\n",
        "## Todos los campos de la tabla Customers donde la columna City sea Paris o London\n",
        "SELECT * FROM Customers\n",
        "WHERE City IN ('Paris','London');\n",
        "\n",
        "\n",
        "## Todos los campos de la tabla Customers donde Country sea Paris o London\n",
        "SELECT * FROM Customers\n",
        "WHERE Country = 'UK';\n",
        "\n",
        "\n",
        "## \n",
        "SELECT * FROM Products\n",
        "WHERE Price > 5 AND \n",
        "Price <= 20;\n",
        "\n",
        "\n",
        "SELECT * FROM Orders\n",
        "WHERE CustomerID = 34;\n",
        "\n",
        "\n",
        "## Repuestas \n",
        "SELECT * FROM Orders\n",
        "WHERE CustomerID = 84;\n",
        "\n",
        "SELECT * FROM [Orders]\n",
        "WHERE ORDERDATE LIKE '%-07-%'\n",
        "\n",
        "\n",
        "SELECT * FROM Custumers\n",
        "WHERE Country LIKE '%xico'\n",
        "\n",
        "\n",
        "\n",
        "SELECT * FROM Customers\n",
        "WHERE Country = 'Mexico';\n",
        "\n",
        "\n",
        "\n",
        "SELECT state, count(name)\n",
        "FROM df\n",
        "GROUP BY state\n",
        "ORDER BY state;\n",
        "\n",
        "\n",
        "SELECT Country, count(CustomerName) as Count\n",
        "FROM Customers\n",
        "GROUP BY Country\n",
        "ORDER BY Country;\n",
        "\n",
        "\n",
        "\n",
        "SELECT state, gender, count(name)\n",
        "FROM df\n",
        "GROUP BY state, gender\n",
        "ORDER BY state, gender;\n",
        "\n",
        "\n",
        "SELECT Country, City, count(CustomerName) as Count\n",
        "FROM Customers\n",
        "GROUP BY Country, City\n",
        "ORDER BY Country, City;\n",
        "\n",
        "\n"
      ]
    },
    {
      "cell_type": "code",
      "source": [],
      "metadata": {
        "id": "EcPI7Pxhm_ai"
      },
      "execution_count": null,
      "outputs": []
    },
    {
      "cell_type": "code",
      "source": [
        "\n"
      ],
      "metadata": {
        "id": "-MOl_scOm_j5"
      },
      "execution_count": null,
      "outputs": []
    }
  ]
}